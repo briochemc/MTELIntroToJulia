{
 "cells": [
  {
   "cell_type": "markdown",
   "metadata": {
    "slideshow": {
     "slide_type": "slide"
    }
   },
   "source": [
    "<img width=40% src=\"https://raw.githubusercontent.com/JuliaLang/julia-logo-graphics/master/images/julia-logo-color.svg\">\n",
    "\n",
    "# An introduction to Julia for MTEL\n",
    "\n",
    "<img width=40% bg=white src=\"http://www.mtel.rocks/uploads/1/1/1/0/111085621/mtel-logo_orig.png\" style=\"background-color:gray;padding:5px;\">"
   ]
  },
  {
   "cell_type": "markdown",
   "metadata": {
    "slideshow": {
     "slide_type": "subslide"
    }
   },
   "source": [
    "## Installation\n",
    "\n",
    "Go to [julialang.org](https://julialang.org/), click download, click on your OS (64-bit), and then install it."
   ]
  },
  {
   "cell_type": "markdown",
   "metadata": {
    "slideshow": {
     "slide_type": "subslide"
    }
   },
   "source": [
    "## Learning Julia\n",
    "\n",
    "A Ton of resources online now (videos, notebooks, blogs, streams, presentations, talks, books, and so on), most of them listed on [Julia's website](https://julialang.org/learning/).\n",
    "\n",
    "- [Slack](https://slackinvite.julialang.org/) (click on the link to request an invitation) with a #helpdesk channel\n",
    "    \n",
    "    <img width=60% src=\"https://user-images.githubusercontent.com/4486578/87495234-341d0d00-c694-11ea-8a48-72cba8a8aa19.png\">\n",
    "    \n",
    "- [Discourse](https://discourse.julialang.org/) forum\n",
    "\n",
    "- [Stackoverflow](https://stackoverflow.com/questions/tagged/julia) questions & answers\n",
    "\n",
    "- and documentation (for [Julia](https://docs.julialang.org/en/v1/) but also for almost all packages)\n",
    "\n",
    "I also recommend the [**MATLAB–Python–Julia cheatsheet**](https://cheatsheets.quantecon.org/) for those familiar with one of these languages."
   ]
  },
  {
   "cell_type": "markdown",
   "metadata": {
    "slideshow": {
     "slide_type": "subslide"
    }
   },
   "source": [
    "## Using Julia\n",
    "\n",
    "You will probably use Julia interactively. There are many ways to do that:\n",
    "- at the REPL (Read Eval Print Loop)\n",
    "- in integrated development interfaces (IDE) (e.g, using [Visual Studio code](https://code.visualstudio.com/), [Atom with Juno](https://junolab.org/), etc.)\n",
    "- using notebooks: [Jupyter](https://jupyter.org/) and [Pluto.jl](https://github.com/fonsp/Pluto.jl)\n",
    "\n",
    "\n",
    "\n",
    "You can also execute code in a non-interactive way (e.g., for long runs or in scripts that run on a cluster). Run scripts via\n",
    "\n",
    "```bash\n",
    "julia my_awesome_script.jl\n",
    "```"
   ]
  },
  {
   "cell_type": "markdown",
   "metadata": {
    "slideshow": {
     "slide_type": "slide"
    }
   },
   "source": [
    "## The REPL\n",
    "\n",
    "The Read Eval Print Loop\n",
    "\n",
    "- `;` to go to shell mode\n",
    "- `]` to go to Pkg mode\n",
    "- `?` to go to help mode\n",
    "- `delete` to go out of special mode back to normal REPL\n",
    "- Ctrl-C stops current run\n",
    "- Ctrl-L clears the screen (like shell's `clear`)\n",
    "- Exit REPL with `exit()`\n",
    "\n",
    "[Here](https://gist.github.com/briochemc/44f1778d0d4e7ad2c3257157638cbb2c) are some animated gifs of tips and tricks I made for the REPL."
   ]
  },
  {
   "cell_type": "markdown",
   "metadata": {
    "slideshow": {
     "slide_type": "slide"
    }
   },
   "source": [
    "## Unicode support"
   ]
  },
  {
   "cell_type": "markdown",
   "metadata": {
    "slideshow": {
     "slide_type": "fragment"
    }
   },
   "source": [
    "Type `\\pi` and then `TAB` will turn `pi` into `π`."
   ]
  },
  {
   "cell_type": "code",
   "execution_count": null,
   "metadata": {
    "slideshow": {
     "slide_type": "fragment"
    }
   },
   "outputs": [],
   "source": [
    "π # (`pi` has a default value in Julia)"
   ]
  },
  {
   "cell_type": "markdown",
   "metadata": {
    "slideshow": {
     "slide_type": "fragment"
    }
   },
   "source": [
    "`\\epsilon` + `TAB` will give `ϵ`, `\\delta` + `TAB` will give `δ`, and so on."
   ]
  },
  {
   "cell_type": "code",
   "execution_count": null,
   "metadata": {
    "slideshow": {
     "slide_type": "fragment"
    }
   },
   "outputs": [],
   "source": [
    "ϵ = 1e-7"
   ]
  },
  {
   "cell_type": "code",
   "execution_count": null,
   "metadata": {
    "slideshow": {
     "slide_type": "fragment"
    }
   },
   "outputs": [],
   "source": [
    "ω = 2e-6"
   ]
  },
  {
   "cell_type": "markdown",
   "metadata": {
    "slideshow": {
     "slide_type": "fragment"
    }
   },
   "source": [
    "A lot of symbols are available, making the code more readbale. \n",
    "\n",
    "- greeks: α, β, γ, δ, ϵ, ε, ϕ, φ, Ω, ω, Γ, λ, Λ, Φ, ...\n",
    "\n",
    "- many math symbols: ∫, ∑, ∮, ⊕, ∀, ...\n",
    "\n",
    "- combine with subscripts superscripts: δ¹⁴C, A⁻¹, x₆, ...\n",
    "\n",
    "- binary operators ≤, ≥, ≈, ...\n",
    "\n",
    "Some already have a value (π, ∈, ∪, ∩)"
   ]
  },
  {
   "cell_type": "code",
   "execution_count": null,
   "metadata": {
    "slideshow": {
     "slide_type": "fragment"
    }
   },
   "outputs": [],
   "source": [
    "🐶 = 9 ; 🐱 = 6 ; 😪 = 0\n",
    "🐶 > 🐱 > 😪\n",
    "δ¹⁴C = \"delta14C\""
   ]
  },
  {
   "cell_type": "markdown",
   "metadata": {
    "slideshow": {
     "slide_type": "slide"
    }
   },
   "source": [
    "## Assignment and basic types"
   ]
  },
  {
   "cell_type": "code",
   "execution_count": null,
   "metadata": {
    "slideshow": {
     "slide_type": "fragment"
    }
   },
   "outputs": [],
   "source": [
    "x = 1"
   ]
  },
  {
   "cell_type": "markdown",
   "metadata": {
    "slideshow": {
     "slide_type": "fragment"
    }
   },
   "source": [
    "mutiple assignment (only the last line is shown in output)"
   ]
  },
  {
   "cell_type": "code",
   "execution_count": null,
   "metadata": {
    "slideshow": {
     "slide_type": "fragment"
    }
   },
   "outputs": [],
   "source": [
    "x = 1\n",
    "y = 2"
   ]
  },
  {
   "cell_type": "markdown",
   "metadata": {
    "slideshow": {
     "slide_type": "fragment"
    }
   },
   "source": [
    "or in single lines"
   ]
  },
  {
   "cell_type": "code",
   "execution_count": null,
   "metadata": {
    "slideshow": {
     "slide_type": "fragment"
    }
   },
   "outputs": [],
   "source": [
    "x = 1; y = 2"
   ]
  },
  {
   "cell_type": "markdown",
   "metadata": {
    "slideshow": {
     "slide_type": "fragment"
    }
   },
   "source": [
    "or better yet,"
   ]
  },
  {
   "cell_type": "code",
   "execution_count": null,
   "metadata": {
    "slideshow": {
     "slide_type": "fragment"
    }
   },
   "outputs": [],
   "source": [
    "x, y = 1, 2"
   ]
  },
  {
   "cell_type": "markdown",
   "metadata": {
    "slideshow": {
     "slide_type": "fragment"
    }
   },
   "source": [
    "(Note `;` suppresses output)"
   ]
  },
  {
   "cell_type": "code",
   "execution_count": null,
   "metadata": {
    "slideshow": {
     "slide_type": "fragment"
    }
   },
   "outputs": [],
   "source": [
    "x = 1 ;"
   ]
  },
  {
   "cell_type": "markdown",
   "metadata": {
    "slideshow": {
     "slide_type": "subslide"
    }
   },
   "source": [
    "## Operations"
   ]
  },
  {
   "cell_type": "markdown",
   "metadata": {
    "slideshow": {
     "slide_type": "fragment"
    }
   },
   "source": [
    "`+`, `-`, `*`, `/`"
   ]
  },
  {
   "cell_type": "code",
   "execution_count": null,
   "metadata": {
    "slideshow": {
     "slide_type": "fragment"
    }
   },
   "outputs": [],
   "source": [
    "x = 2 * 1.3 + 0.455 / 5 - 3.0"
   ]
  },
  {
   "cell_type": "markdown",
   "metadata": {
    "slideshow": {
     "slide_type": "fragment"
    }
   },
   "source": [
    "exponentiation"
   ]
  },
  {
   "cell_type": "code",
   "execution_count": null,
   "metadata": {
    "slideshow": {
     "slide_type": "fragment"
    }
   },
   "outputs": [],
   "source": [
    "x = 2 ^ 10 + sin(2π/3)"
   ]
  },
  {
   "cell_type": "markdown",
   "metadata": {
    "slideshow": {
     "slide_type": "fragment"
    }
   },
   "source": [
    "Equality"
   ]
  },
  {
   "cell_type": "code",
   "execution_count": null,
   "metadata": {
    "slideshow": {
     "slide_type": "fragment"
    }
   },
   "outputs": [],
   "source": [
    "1 == 0.5"
   ]
  },
  {
   "cell_type": "markdown",
   "metadata": {
    "slideshow": {
     "slide_type": "fragment"
    }
   },
   "source": [
    "Almost equal"
   ]
  },
  {
   "cell_type": "code",
   "execution_count": null,
   "metadata": {
    "slideshow": {
     "slide_type": "fragment"
    }
   },
   "outputs": [],
   "source": [
    "1.00000001 ≈ 1 # type `\\approx` and TAB for ≈"
   ]
  },
  {
   "cell_type": "markdown",
   "metadata": {
    "slideshow": {
     "slide_type": "fragment"
    }
   },
   "source": [
    "Comparisons"
   ]
  },
  {
   "cell_type": "code",
   "execution_count": null,
   "metadata": {
    "slideshow": {
     "slide_type": "fragment"
    }
   },
   "outputs": [],
   "source": [
    "x, y = 5, 6\n",
    "x <= 6"
   ]
  },
  {
   "cell_type": "markdown",
   "metadata": {
    "slideshow": {
     "slide_type": "fragment"
    }
   },
   "source": [
    "Element-wise operations using `.` (broadcast)"
   ]
  },
  {
   "cell_type": "code",
   "execution_count": null,
   "metadata": {
    "slideshow": {
     "slide_type": "fragment"
    }
   },
   "outputs": [],
   "source": [
    "x = [1, 2, 3]\n",
    "x .* x"
   ]
  },
  {
   "cell_type": "code",
   "execution_count": null,
   "metadata": {
    "slideshow": {
     "slide_type": "fragment"
    }
   },
   "outputs": [],
   "source": [
    "sin.(x)"
   ]
  },
  {
   "cell_type": "code",
   "execution_count": null,
   "metadata": {},
   "outputs": [],
   "source": [
    "x .< 2"
   ]
  },
  {
   "cell_type": "markdown",
   "metadata": {
    "slideshow": {
     "slide_type": "subslide"
    }
   },
   "source": [
    "## Logic"
   ]
  },
  {
   "cell_type": "code",
   "execution_count": null,
   "metadata": {},
   "outputs": [],
   "source": [
    "1 ≤ 2"
   ]
  },
  {
   "cell_type": "code",
   "execution_count": 4,
   "metadata": {},
   "outputs": [
    {
     "data": {
      "text/plain": [
       "\"Mask not required\""
      ]
     },
     "execution_count": 4,
     "metadata": {},
     "output_type": "execute_result"
    }
   ],
   "source": [
    "pandemic = false\n",
    "if pandemic\n",
    "    \"Wear a mask!\"\n",
    "else\n",
    "    \"Mask not required\"\n",
    "end"
   ]
  },
  {
   "cell_type": "markdown",
   "metadata": {
    "slideshow": {
     "slide_type": "fragment"
    }
   },
   "source": [
    "You can do `A ? B : C` instead (short syntax for `if A then B else C`):"
   ]
  },
  {
   "cell_type": "code",
   "execution_count": 5,
   "metadata": {
    "slideshow": {
     "slide_type": "fragment"
    }
   },
   "outputs": [
    {
     "data": {
      "text/plain": [
       "\"Mask not required\""
      ]
     },
     "execution_count": 5,
     "metadata": {},
     "output_type": "execute_result"
    }
   ],
   "source": [
    "pandemic ? \"Wear a mask!\" : \"Mask not required\""
   ]
  },
  {
   "cell_type": "code",
   "execution_count": null,
   "metadata": {
    "slideshow": {
     "slide_type": "fragment"
    }
   },
   "outputs": [],
   "source": [
    "x, y = true, false\n",
    "x & y # x AND y"
   ]
  },
  {
   "cell_type": "code",
   "execution_count": null,
   "metadata": {
    "slideshow": {
     "slide_type": "fragment"
    }
   },
   "outputs": [],
   "source": [
    "x | y # x OR y"
   ]
  },
  {
   "cell_type": "code",
   "execution_count": null,
   "metadata": {
    "slideshow": {
     "slide_type": "fragment"
    }
   },
   "outputs": [],
   "source": [
    "!x # NOT x"
   ]
  },
  {
   "cell_type": "markdown",
   "metadata": {
    "slideshow": {
     "slide_type": "fragment"
    }
   },
   "source": [
    "Short-circuit with `&&` and `||`"
   ]
  },
  {
   "cell_type": "code",
   "execution_count": null,
   "metadata": {
    "slideshow": {
     "slide_type": "fragment"
    }
   },
   "outputs": [],
   "source": [
    "true && println(\"A\")\n",
    "true || println(\"B\")\n",
    "false && println(\"C\")\n",
    "false || println(\"D\")\n",
    "\n",
    "1 < 2 && println(\"1<2!\")"
   ]
  },
  {
   "cell_type": "markdown",
   "metadata": {
    "slideshow": {
     "slide_type": "slide"
    }
   },
   "source": [
    "## Functions"
   ]
  },
  {
   "cell_type": "markdown",
   "metadata": {
    "slideshow": {
     "slide_type": "fragment"
    }
   },
   "source": [
    "For complicated functions, you can write them as"
   ]
  },
  {
   "cell_type": "code",
   "execution_count": null,
   "metadata": {
    "slideshow": {
     "slide_type": "fragment"
    }
   },
   "outputs": [],
   "source": [
    "function fib(x)\n",
    "    if x ≤ 1\n",
    "        y = 1\n",
    "    else\n",
    "        y = fib(x - 1) + fib(x - 2)\n",
    "    end\n",
    "    return y\n",
    "end\n",
    "\n",
    "fib2(x) = x ≤ 1 ? 1 : fib2(x-1) + fib2(x-2)\n",
    "\n",
    "function g(x)\n",
    "    return 2 * x - 1\n",
    "end"
   ]
  },
  {
   "cell_type": "code",
   "execution_count": null,
   "metadata": {
    "slideshow": {
     "slide_type": "fragment"
    }
   },
   "outputs": [],
   "source": [
    "[println(\"fib($i) = $(fib2(i))\") for i in 0:10] ;\n",
    "g(3)"
   ]
  },
  {
   "cell_type": "markdown",
   "metadata": {
    "slideshow": {
     "slide_type": "fragment"
    }
   },
   "source": [
    "- single-line functions"
   ]
  },
  {
   "cell_type": "code",
   "execution_count": null,
   "metadata": {
    "slideshow": {
     "slide_type": "fragment"
    }
   },
   "outputs": [],
   "source": [
    "f(x) = 2 * cos(x) + 1"
   ]
  },
  {
   "cell_type": "code",
   "execution_count": null,
   "metadata": {
    "slideshow": {
     "slide_type": "fragment"
    }
   },
   "outputs": [],
   "source": [
    "f(2.5) "
   ]
  },
  {
   "cell_type": "markdown",
   "metadata": {
    "slideshow": {
     "slide_type": "slide"
    }
   },
   "source": [
    "## Base types"
   ]
  },
  {
   "cell_type": "markdown",
   "metadata": {
    "slideshow": {
     "slide_type": "fragment"
    }
   },
   "source": [
    "Integers"
   ]
  },
  {
   "cell_type": "code",
   "execution_count": null,
   "metadata": {
    "slideshow": {
     "slide_type": "fragment"
    }
   },
   "outputs": [],
   "source": [
    "x = 1\n",
    "x, typeof(x)"
   ]
  },
  {
   "cell_type": "markdown",
   "metadata": {
    "slideshow": {
     "slide_type": "fragment"
    }
   },
   "source": [
    "Real numbers (default `Float64` AKA double precision)"
   ]
  },
  {
   "cell_type": "code",
   "execution_count": null,
   "metadata": {
    "slideshow": {
     "slide_type": "fragment"
    }
   },
   "outputs": [],
   "source": [
    "x = 1.0\n",
    "x, typeof(x)"
   ]
  },
  {
   "cell_type": "markdown",
   "metadata": {
    "slideshow": {
     "slide_type": "fragment"
    }
   },
   "source": [
    "Fractions"
   ]
  },
  {
   "cell_type": "code",
   "execution_count": null,
   "metadata": {
    "slideshow": {
     "slide_type": "fragment"
    }
   },
   "outputs": [],
   "source": [
    "x = 1 // 2\n",
    "x, typeof(x)"
   ]
  },
  {
   "cell_type": "markdown",
   "metadata": {
    "slideshow": {
     "slide_type": "fragment"
    }
   },
   "source": [
    "(not the same as `1/2`)"
   ]
  },
  {
   "cell_type": "code",
   "execution_count": null,
   "metadata": {
    "slideshow": {
     "slide_type": "fragment"
    }
   },
   "outputs": [],
   "source": [
    "x = 1 / 2 \n",
    "typeof(x)"
   ]
  },
  {
   "cell_type": "markdown",
   "metadata": {
    "slideshow": {
     "slide_type": "subslide"
    }
   },
   "source": [
    "### Some other \"standard\" types"
   ]
  },
  {
   "cell_type": "code",
   "execution_count": null,
   "metadata": {
    "slideshow": {
     "slide_type": "fragment"
    }
   },
   "outputs": [],
   "source": [
    "x = \"A string\"\n",
    "x, typeof(x)"
   ]
  },
  {
   "cell_type": "code",
   "execution_count": null,
   "metadata": {
    "slideshow": {
     "slide_type": "fragment"
    }
   },
   "outputs": [],
   "source": [
    "x = 'c'\n",
    "x, typeof(x)"
   ]
  },
  {
   "cell_type": "code",
   "execution_count": null,
   "metadata": {
    "slideshow": {
     "slide_type": "fragment"
    }
   },
   "outputs": [],
   "source": [
    "x = :a\n",
    "x, typeof(x)"
   ]
  },
  {
   "cell_type": "code",
   "execution_count": null,
   "metadata": {
    "slideshow": {
     "slide_type": "fragment"
    }
   },
   "outputs": [],
   "source": [
    "x = true # or false\n",
    "x, typeof(x)"
   ]
  },
  {
   "cell_type": "markdown",
   "metadata": {
    "slideshow": {
     "slide_type": "fragment"
    }
   },
   "source": [
    "Vectors and arrays of different types"
   ]
  },
  {
   "cell_type": "code",
   "execution_count": null,
   "metadata": {
    "slideshow": {
     "slide_type": "fragment"
    }
   },
   "outputs": [],
   "source": [
    "x = [1, \"two\", :three]"
   ]
  },
  {
   "cell_type": "markdown",
   "metadata": {
    "slideshow": {
     "slide_type": "fragment"
    }
   },
   "source": [
    "Tuples (immutable)"
   ]
  },
  {
   "cell_type": "code",
   "execution_count": null,
   "metadata": {
    "slideshow": {
     "slide_type": "fragment"
    }
   },
   "outputs": [],
   "source": [
    "x = (1, \"two\", :three) "
   ]
  },
  {
   "cell_type": "markdown",
   "metadata": {
    "slideshow": {
     "slide_type": "fragment"
    }
   },
   "source": [
    "Named tuples"
   ]
  },
  {
   "cell_type": "code",
   "execution_count": null,
   "metadata": {
    "scrolled": true,
    "slideshow": {
     "slide_type": "fragment"
    }
   },
   "outputs": [],
   "source": [
    "x = (a = 1, b = \"two\", c = :three)"
   ]
  },
  {
   "cell_type": "code",
   "execution_count": null,
   "metadata": {
    "slideshow": {
     "slide_type": "fragment"
    }
   },
   "outputs": [],
   "source": [
    "x.a, x.c"
   ]
  },
  {
   "cell_type": "markdown",
   "metadata": {},
   "source": [
    "Dictionaries"
   ]
  },
  {
   "cell_type": "code",
   "execution_count": null,
   "metadata": {},
   "outputs": [],
   "source": [
    "x = Dict(:a => 1, :b => \"two\", :c => :three)"
   ]
  },
  {
   "cell_type": "markdown",
   "metadata": {
    "slideshow": {
     "slide_type": "slide"
    }
   },
   "source": [
    "## Packages\n",
    "\n",
    "The list is *very* long, so here is a quick curated list of things that come to mind\n",
    "\n",
    "- [OhMyREPL](https://github.com/KristofferC/OhMyREPL.jl), [Revise](https://github.com/timholy/Revise.jl)\n",
    "- notebooks: [IJulia](https://github.com/JuliaLang/IJulia.jl) and [Pluto](https://github.com/fonsp/Pluto.jl)\n",
    "- [Plots](https://github.com/JuliaPlots/Plots.jl) + backends, [Makie](https://github.com/JuliaPlots/Makie.jl), [UnicodePlots](https://github.com/Evizero/UnicodePlots.jl), [PyPlot](https://github.com/JuliaPy/PyPlot.jl) \n",
    "- [Unitful](https://github.com/PainterQubits/Unitful.jl) for units ([UnitfulRecipes](https://github.com/jw3126/UnitfulRecipes.jl))\n",
    "- [Measurements](https://github.com/JuliaPhysics/Measurements.jl) and [MonteCarloMeasurements](https://github.com/baggepinnen/MonteCarloMeasurements.jl) for errorbars\n",
    "- [DataFrames](https://github.com/JuliaData/DataFrames.jl), [CSV](https://juliadata.github.io/CSV.jl/stable/), [NCDataSets](https://github.com/Alexander-Barth/NCDatasets.jl), [PrettyTables](https://github.com/ronisbr/PrettyTables.jl), [MAT](https://github.com/JuliaIO/MAT.jl), etc., for reading/writing tabular data\n",
    "- Ocean stuff: [JuliaOcean](https://github.com/JuliaOcean), [PlanktonIndividuals](https://github.com/JuliaOcean/PlanktonIndividuals.jl), [AIBECS](https://github.com/JuliaOcean/AIBECS.jl), [CliMA](https://github.com/CliMA/ClimateMachine.jl), [ArgoData](https://github.com/JuliaOcean/ArgoData.jl), [AirSeaFluxes](https://github.com/JuliaOcean/AirSeaFluxes.jl), [Oceananigans.jl](https://github.com/CliMA/Oceananigans.jl), [GeophysicalFlows](https://github.com/FourierFlows/GeophysicalFlows.jl), [IndividualDisplacements](https://github.com/JuliaClimate/IndividualDisplacements.jl), [Simons CMAP](https://github.com/simonscmap/CMAP.jl), [WorldOceanAtlasTools](https://github.com/briochemc/WorldOceanAtlasTools.jl), [GEOTRACES](https://github.com/briochemc/GEOTRACES.jl), [ClimateERA](https://github.com/natgeo-wong/ClimateERA.jl), [DIVAnd](https://github.com/gher-ulg/DIVAnd.jl) (interpolation for ODV), and so on\n",
    "- [SciML](https://github.com/SciML) (Differential equations + ML), [Biojulia](https://biojulia.net/), [GeoStats](https://github.com/JuliaEarth/GeoStats.jl)\n",
    "- [Latexify](https://github.com/korsbo/Latexify.jl) for LaTeX"
   ]
  },
  {
   "cell_type": "markdown",
   "metadata": {
    "slideshow": {
     "slide_type": "skip"
    }
   },
   "source": [
    "---\n",
    "\n",
    "*This notebook was generated using [Literate.jl](https://github.com/fredrikekre/Literate.jl).*"
   ]
  }
 ],
 "metadata": {
  "celltoolbar": "Slideshow",
  "kernelspec": {
   "display_name": "Julia 1.4.2",
   "language": "julia",
   "name": "julia-1.4"
  },
  "language_info": {
   "file_extension": ".jl",
   "mimetype": "application/julia",
   "name": "julia",
   "version": "1.4.2"
  },
  "rise": {
   "scroll": true
  }
 },
 "nbformat": 4,
 "nbformat_minor": 4
}
